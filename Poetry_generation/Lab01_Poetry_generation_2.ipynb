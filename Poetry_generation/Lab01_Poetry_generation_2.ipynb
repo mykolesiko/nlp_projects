{
  "nbformat": 4,
  "nbformat_minor": 0,
  "metadata": {
    "anaconda-cloud": {},
    "colab": {
      "name": "Копия блокнота \"Копия блокнота \"Lab01_Poetry_generation.ipynb\"\"",
      "provenance": [],
      "collapsed_sections": [],
      "toc_visible": true
    },
    "kernelspec": {
      "display_name": "Python 3",
      "language": "python",
      "name": "python3"
    },
    "language_info": {
      "codemirror_mode": {
        "name": "ipython",
        "version": 3
      },
      "file_extension": ".py",
      "mimetype": "text/x-python",
      "name": "python",
      "nbconvert_exporter": "python",
      "pygments_lexer": "ipython3",
      "version": "3.7.7"
    },
    "accelerator": "GPU"
  },
  "cells": [
    {
      "cell_type": "markdown",
      "metadata": {
        "id": "F6lrNmmtqNg7"
      },
      "source": [
        "## Lab 01. Poetry generation\n",
        "\n",
        "Let's try to generate some poetry using RNNs. \n",
        "\n",
        "You have several choices here: \n",
        "\n",
        "* The Shakespeare sonnets, file `sonnets.txt` available in the notebook directory.\n",
        "\n",
        "* Роман в стихах \"Евгений Онегин\" Александра Сергеевича Пушкина. В предобработанном виде доступен по [ссылке](https://github.com/attatrol/data_sources/blob/master/onegin.txt).\n",
        "\n",
        "* Some other text source, if it will be approved by the course staff.\n",
        "\n",
        "Text generation can be designed in several steps:\n",
        "    \n",
        "1. Data loading.\n",
        "2. Dictionary generation.\n",
        "3. Data preprocessing.\n",
        "4. Model (neural network) training.\n",
        "5. Text generation (model evaluation).\n"
      ]
    },
    {
      "cell_type": "code",
      "metadata": {
        "id": "46afKU7UqNg9"
      },
      "source": [
        "import string\n",
        "import os\n",
        "import numpy as np\n",
        "import matplotlib.pyplot as plt"
      ],
      "execution_count": 77,
      "outputs": []
    },
    {
      "cell_type": "markdown",
      "metadata": {
        "id": "JSo8VsIoqNg-"
      },
      "source": [
        "### Data loading: Shakespeare"
      ]
    },
    {
      "cell_type": "markdown",
      "metadata": {
        "id": "Ii3Cr6urqNg_"
      },
      "source": [
        "Shakespeare sonnets are awailable at this [link](http://www.gutenberg.org/ebooks/1041?msg=welcome_stranger). In addition, they are stored in the same directory as this notebook (`sonnetes.txt`). Simple preprocessing is already done for you in the next cell: all technical info is dropped."
      ]
    },
    {
      "cell_type": "code",
      "metadata": {
        "collapsed": true,
        "id": "M528WG1BqNg_"
      },
      "source": [
        "#if not os.path.exists('sonnets.txt'):\n",
        "#    !wget https://raw.githubusercontent.com/girafe-ai/ml-mipt/master/homeworks_basic/Lab2_DL/sonnets.txt\n",
        "\n",
        "#with open('sonnets.txt', 'r') as iofile:\n",
        " #   text = iofile.readlines()\n",
        "    \n",
        "#TEXT_START = 45\n",
        "#TEXT_END = -368\n",
        "#text = text[TEXT_START : TEXT_END]\n",
        "#assert len(text) == 2616"
      ],
      "execution_count": 78,
      "outputs": []
    },
    {
      "cell_type": "markdown",
      "metadata": {
        "id": "7mWm1rYTqNhA"
      },
      "source": [
        "In opposite to the in-class practice, this time we want to predict complex text. Let's reduce the complexity of the task and lowercase all the symbols.\n",
        "\n",
        "Now variable `text` is a list of strings. Join all the strings into one and lowercase it."
      ]
    },
    {
      "cell_type": "code",
      "metadata": {
        "id": "RjmGOW2dqNhA"
      },
      "source": [
        "import re\n",
        "SOS = '<'\n",
        "EOS = '>'\n",
        "\n",
        "# Join all the strings into one and lowercase it\n",
        "# Put result into variable text.\n",
        "from nltk.tokenize import TweetTokenizer\n",
        "\n",
        "\n",
        "def get_poems_list(text):\n",
        "  tokenizer = TweetTokenizer()\n",
        "  preprocess = lambda line: \" \".join(tokenizer.tokenize(line.lower()))\n",
        "  sonets = [\"\"]\n",
        "  i = 0\n",
        "  new_sonet = 1\n",
        "  for line in text:\n",
        "    #print(line)\n",
        "    if (len(line) < 10) or (line == '\\n'):\n",
        "      if new_sonet == 0:\n",
        "        sl = list(sonets[i])\n",
        "        sl[-1] = EOS\n",
        "        sonets[i] = \"\".join(sl)\n",
        "        sonets.append(\"\")\n",
        "        i += 1\n",
        "        new_sonet = 1\n",
        "      continue\n",
        "    if new_sonet == 1:\n",
        "      sonets[i] += SOS \n",
        "      sonets[i] += \" \" \n",
        "    else:  \n",
        "      sonets[i]  += \"* \"\n",
        "    new_sonet = 0\n",
        "    line = line.strip()\n",
        "    #line = preprocess(line)\n",
        "    re.sub(r'\\s+', ' ', line)\n",
        "    line += \"\\n\"\n",
        "  \n",
        "    sonets[i] += line.lower()\n",
        "  return sonets  \n",
        "  \n",
        "#all_string = \"\"\n",
        "#for line in text:\n",
        "#  all_string += line\n",
        "\n",
        "#text_all = all_string.lower()\n",
        "\n",
        "#assert len(text_all) == 100225, 'Are you sure you have concatenated all the strings?'\n",
        "#assert not any([x in set(text_all) for x in string.ascii_uppercase]), 'Uppercase letters are present'\n",
        "#print('OK!')"
      ],
      "execution_count": 79,
      "outputs": []
    },
    {
      "cell_type": "markdown",
      "metadata": {
        "id": "gfzhbCmbqNhA"
      },
      "source": [
        "### Data loading: \"Евгений Онегин\"\n"
      ]
    },
    {
      "cell_type": "code",
      "metadata": {
        "colab": {
          "base_uri": "https://localhost:8080/"
        },
        "id": "frPEe2kgqNhB",
        "outputId": "21e17257-2b80-4ac6-a4f6-f2b8f062a419"
      },
      "source": [
        "!wget https://raw.githubusercontent.com/attatrol/data_sources/master/onegin.txt\n",
        "    \n",
        "with open('onegin.txt', 'r') as iofile:\n",
        "    text_onegin = iofile.readlines()\n",
        "    \n",
        "text_onegin = [x.replace('\\t\\t', '') for x in text_onegin]\n",
        "text_onegin_new = \" \".join(text_onegin)\n",
        "print(text_onegin_new[0:300])"
      ],
      "execution_count": 80,
      "outputs": [
        {
          "output_type": "stream",
          "text": [
            "--2021-04-28 07:43:25--  https://raw.githubusercontent.com/attatrol/data_sources/master/onegin.txt\n",
            "Resolving raw.githubusercontent.com (raw.githubusercontent.com)... 185.199.110.133, 185.199.111.133, 185.199.108.133, ...\n",
            "Connecting to raw.githubusercontent.com (raw.githubusercontent.com)|185.199.110.133|:443... connected.\n",
            "HTTP request sent, awaiting response... 200 OK\n",
            "Length: 262521 (256K) [text/plain]\n",
            "Saving to: ‘onegin.txt.1’\n",
            "\n",
            "onegin.txt.1        100%[===================>] 256.37K  --.-KB/s    in 0.04s   \n",
            "\n",
            "2021-04-28 07:43:26 (7.08 MB/s) - ‘onegin.txt.1’ saved [262521/262521]\n",
            "\n",
            "\n",
            " I\n",
            " \n",
            " «Мой дядя самых честных правил,\n",
            " Когда не в шутку занемог,\n",
            " Он уважать себя заставил\n",
            " И лучше выдумать не мог.\n",
            " Его пример другим наука;\n",
            " Но, боже мой, какая скука\n",
            " С больным сидеть и день и ночь,\n",
            " Не отходя ни шагу прочь!\n",
            " Какое низкое коварство\n",
            " Полуживого забавлять,\n",
            " Ему подушки поправлять\n"
          ],
          "name": "stdout"
        }
      ]
    },
    {
      "cell_type": "code",
      "metadata": {
        "id": "FX8sEVKqCDDO"
      },
      "source": [
        "poems = get_poems_list(text_onegin)"
      ],
      "execution_count": 81,
      "outputs": []
    },
    {
      "cell_type": "code",
      "metadata": {
        "colab": {
          "base_uri": "https://localhost:8080/"
        },
        "id": "qf09M7UHC0uO",
        "outputId": "9439bfde-189f-4b51-c75e-67d455e79b43"
      },
      "source": [
        "print(poems[60])"
      ],
      "execution_count": 233,
      "outputs": [
        {
          "output_type": "stream",
          "text": [
            "< от хладного разврата света\n",
            "* еще увянуть не успев,\n",
            "* его душа была согрета\n",
            "* приветом друга, лаской дев;\n",
            "* он сердцем милый был невежда,\n",
            "* его лелеяла надежда,\n",
            "* и мира новый блеск и шум\n",
            "* еще пленяли юный ум.\n",
            "* он забавлял мечтою сладкой\n",
            "* сомненья сердца своего;\n",
            "* цель жизни нашей для него\n",
            "* была заманчивой загадкой,\n",
            "* над ней он голову ломал\n",
            "* и чудеса подозревал.>\n"
          ],
          "name": "stdout"
        }
      ]
    },
    {
      "cell_type": "code",
      "metadata": {
        "id": "RdQyxyC_EMcF"
      },
      "source": [
        "all_string = \"\"\n",
        "for line in text_onegin:\n",
        "  all_string += line\n",
        "\n",
        "text_all = all_string.lower()"
      ],
      "execution_count": 83,
      "outputs": []
    },
    {
      "cell_type": "markdown",
      "metadata": {
        "id": "qV36OBQRqNhC"
      },
      "source": [
        "In opposite to the in-class practice, this time we want to predict complex text. Let's reduce the complexity of the task and lowercase all the symbols.\n",
        "\n",
        "Now variable `text` is a list of strings. Join all the strings into one and lowercase it."
      ]
    },
    {
      "cell_type": "code",
      "metadata": {
        "colab": {
          "base_uri": "https://localhost:8080/"
        },
        "id": "m9To3OdnqNhD",
        "outputId": "d6e8a3cd-e9af-457e-b4a0-f13aee66296e"
      },
      "source": [
        "PAD = '_'\n",
        "BEGIN_LINE = '*'\n",
        "out = text_all\n",
        "tokens = sorted(set(out))\n",
        "tokens.append(SOS)\n",
        "tokens.append(EOS)\n",
        "tokens.append(BEGIN_LINE)\n",
        "tokens.append(PAD)\n",
        "print(tokens)\n",
        "num_tokens = len(tokens)\n",
        "print(num_tokens)\n",
        "\n",
        "#PAD_INDEX = 40\n",
        "#PAD_INDEX = 86"
      ],
      "execution_count": 84,
      "outputs": [
        {
          "output_type": "stream",
          "text": [
            "['\\n', ' ', '!', '(', ')', ',', '-', '.', '5', '7', '8', '9', ':', ';', '?', '[', ']', '^', 'a', 'b', 'c', 'd', 'e', 'f', 'g', 'h', 'i', 'k', 'l', 'm', 'n', 'o', 'p', 'q', 'r', 's', 't', 'u', 'v', 'w', 'x', 'y', 'z', '«', '»', 'а', 'б', 'в', 'г', 'д', 'е', 'ж', 'з', 'и', 'й', 'к', 'л', 'м', 'н', 'о', 'п', 'р', 'с', 'т', 'у', 'ф', 'х', 'ц', 'ч', 'ш', 'щ', 'ъ', 'ы', 'ь', 'э', 'ю', 'я', 'ё', '–', '—', '’', '…', '€', '<', '>', '*', '_']\n",
            "87\n"
          ],
          "name": "stdout"
        }
      ]
    },
    {
      "cell_type": "code",
      "metadata": {
        "colab": {
          "base_uri": "https://localhost:8080/"
        },
        "id": "GhySEJqAHqSe",
        "outputId": "e66acc01-4a96-4390-e98b-f605ac54ca66"
      },
      "source": [
        "num_tokens = len(tokens)\n",
        "print(num_tokens)"
      ],
      "execution_count": 85,
      "outputs": [
        {
          "output_type": "stream",
          "text": [
            "87\n"
          ],
          "name": "stdout"
        }
      ]
    },
    {
      "cell_type": "code",
      "metadata": {
        "colab": {
          "base_uri": "https://localhost:8080/"
        },
        "id": "LJI59E2vkduA",
        "outputId": "9fd64334-ad8d-417b-deea-09823c0142a2"
      },
      "source": [
        "len_poems = list(map(len, poems))\n",
        "print(max(len_poems))\n",
        "print(min(len_poems))"
      ],
      "execution_count": 110,
      "outputs": [
        {
          "output_type": "stream",
          "text": [
            "1625\n",
            "12\n"
          ],
          "name": "stdout"
        }
      ]
    },
    {
      "cell_type": "markdown",
      "metadata": {
        "id": "xY7YZlZVqNhD"
      },
      "source": [
        "Create dictionary `token_to_idx = {<char>: <index>}` and dictionary `idx_to_token = {<index>: <char>}`"
      ]
    },
    {
      "cell_type": "code",
      "metadata": {
        "collapsed": true,
        "id": "CZDpy4Y-qNhD"
      },
      "source": [
        "# dict <index>:<char>\n",
        "token_to_id = {token: idx for idx, token in enumerate(tokens)}\n",
        "\n",
        "# dict <char>:<index>\n",
        "idx_to_token = {idx: token for idx, token in enumerate(tokens)}"
      ],
      "execution_count": 86,
      "outputs": []
    },
    {
      "cell_type": "markdown",
      "metadata": {
        "id": "RE3mjUXVqNhE"
      },
      "source": [
        "*Comment: in this task we have only 38 different tokens, so let's use one-hot encoding.*"
      ]
    },
    {
      "cell_type": "markdown",
      "metadata": {
        "id": "El9flGUsqNhE"
      },
      "source": [
        "### Building the model"
      ]
    },
    {
      "cell_type": "markdown",
      "metadata": {
        "id": "D2OGpAXBqNhF"
      },
      "source": [
        "Now we want to build and train recurrent neural net which would be able to something similar to Shakespeare's poetry.\n",
        "\n",
        "Let's use vanilla RNN, similar to the one created during the lesson."
      ]
    },
    {
      "cell_type": "markdown",
      "metadata": {
        "id": "UrOgtki91Hfd"
      },
      "source": [
        "Первая модель - самописная vanilla-RNN. Токенами являются буквы, на вход модели подаются отдельные стихи, предсказывается следующая буква.\n",
        "При подсчете лосса pad-символы игнорируются (в случае стихов разной длины в батче).\n",
        "Подбираем следующие гиперпараметры модели - размер скрытого слоя = 300, размер выходного слоя 0  - количество букв (87), размер embedding слоя возьмем немного излишним, округлим до 100."
      ]
    },
    {
      "cell_type": "code",
      "metadata": {
        "collapsed": true,
        "id": "dIUmGGREqNhF"
      },
      "source": [
        "import torch, torch.nn as nn\n",
        "import torch.nn.functional as F"
      ],
      "execution_count": 87,
      "outputs": []
    },
    {
      "cell_type": "code",
      "metadata": {
        "id": "rtOduMl-tAxf"
      },
      "source": [
        "def to_matrix(sentences, max_len = None, pad=PAD, dtype='int32', batch_first=True):\n",
        "    \"\"\"Casts a list of names into rnn-digestable matrix\"\"\"\n",
        "    \n",
        "    max_len = max_len or max(map(len, sentences))\n",
        "    sentences_ix = np.zeros([len(sentences), max_len], dtype) + token_to_id[PAD]\n",
        "    #sentences_ix = np.full((len(sentences), max_len), ord(pad), dtype) \n",
        "    #print(sentences_ix)\n",
        "\n",
        "    for i in range(len(sentences)):\n",
        "        line_ix = [token_to_id[c] for c in sentences[i]]\n",
        "        sentences_ix[i, :len(line_ix)] = line_ix[:max_len]\n",
        "        \n",
        "    if not batch_first: # convert [batch, time] into [time, batch]\n",
        "        sentences_ix = np.transpose(sentences_ix)\n",
        "    #print(sentences_ix)\n",
        "    return sentences_ix"
      ],
      "execution_count": 88,
      "outputs": []
    },
    {
      "cell_type": "markdown",
      "metadata": {
        "id": "RPL-ke4OqNhF"
      },
      "source": [
        "Plot the loss function (axis X: number of epochs, axis Y: loss function)."
      ]
    },
    {
      "cell_type": "code",
      "metadata": {
        "collapsed": true,
        "id": "WmIRJoyiqNhG"
      },
      "source": [
        "class CharRNNCell(nn.Module):\n",
        "    \"\"\"\n",
        "    Implement the scheme above as torch module\n",
        "    \"\"\"\n",
        "    def __init__(self, num_tokens=len(tokens), embedding_size=100, rnn_num_units = 300):\n",
        "        super(self.__class__,self).__init__()\n",
        "        self.num_units = rnn_num_units\n",
        "        \n",
        "        self.embedding = nn.Embedding(num_tokens, embedding_size)\n",
        "        self.rnn_update = nn.Linear(\n",
        "            embedding_size + rnn_num_units,\n",
        "            rnn_num_units\n",
        "        )\n",
        "        self.rnn_to_logits = nn.Linear(rnn_num_units, num_tokens)\n",
        "        \n",
        "    def forward(self, x, h_prev):\n",
        "        \"\"\"\n",
        "        This method computes h_next(x, h_prev) and log P(x_next | h_next)\n",
        "        We'll call it repeatedly to produce the whole sequence.\n",
        "        \n",
        "        :param x: batch of character ids, containing vector of int64\n",
        "        :param h_prev: previous rnn hidden states, containing matrix [batch, rnn_num_units] of float32\n",
        "        \"\"\"\n",
        "        # get vector embedding of x\n",
        "        #print(\"before\")\n",
        "        #print(x)\n",
        "        x_emb = self.embedding(x)\n",
        "        #print(f\"***{x.shape} {x}\")\n",
        "        #print(x_emb)\n",
        "        #print(h_prev.shape)\n",
        "        \n",
        "        # compute next hidden state using self.rnn_update\n",
        "        # hint: use torch.cat(..., dim=...) for concatenation\n",
        "        x_and_h = torch.cat([x_emb, h_prev], dim=-1)# YOUR CODE HERE\n",
        "        #print(x_and_h.shape)\n",
        "        h_next = self.rnn_update(x_and_h) # YOUR CODE HERE\n",
        "        h_next = torch.tanh(h_next) # YOUR CODE HERE\n",
        "        assert h_next.size() == h_prev.size()\n",
        "        \n",
        "        #compute logits for next character probs\n",
        "        logits = self.rnn_to_logits(h_next) # YOUR CODE\n",
        "        \n",
        "        return h_next, F.log_softmax(logits, -1)\n",
        "    \n",
        "    def initial_state(self, batch_size):\n",
        "        \"\"\" return rnn state before it processes first input (aka h0) \"\"\"\n",
        "        return torch.zeros(batch_size, self.num_units, requires_grad=True)"
      ],
      "execution_count": 89,
      "outputs": []
    },
    {
      "cell_type": "code",
      "metadata": {
        "id": "-dN4XU5AeUJP"
      },
      "source": [
        "char_rnn = CharRNNCell()\n",
        "criterion = nn.NLLLoss(ignore_index = token_to_id[PAD]) # YOUR CODE HERE"
      ],
      "execution_count": 90,
      "outputs": []
    },
    {
      "cell_type": "code",
      "metadata": {
        "id": "oEKBfsLbeU9F"
      },
      "source": [
        "def rnn_loop(char_rnn, batch_ix):\n",
        "    \"\"\"\n",
        "    Computes log P(next_character) for all time-steps in names_ix\n",
        "    :param names_ix: an int32 matrix of shape [batch, time], output of to_matrix(names)\n",
        "    \"\"\"\n",
        "    batch_size, max_length = batch_ix.size()\n",
        "    hid_state = char_rnn.initial_state(batch_size)\n",
        "    logprobs = []\n",
        "\n",
        "    for x_t in batch_ix.transpose(0,1):\n",
        "        #print(x_t)\n",
        "        hid_state, logp_next = char_rnn(x_t, hid_state)  # <-- here we call your one-step code\n",
        "        logprobs.append(logp_next)\n",
        "        \n",
        "    return torch.stack(logprobs, dim=1)"
      ],
      "execution_count": 91,
      "outputs": []
    },
    {
      "cell_type": "code",
      "metadata": {
        "colab": {
          "base_uri": "https://localhost:8080/"
        },
        "id": "pDreOnHaenuV",
        "outputId": "d3f7a7d5-a622-4a41-b534-a58b01dc9439"
      },
      "source": [
        "#batch_ix = to_matrix(sonets)\n",
        "batch_ix = to_matrix(poems)\n",
        "batch_ix = torch.tensor(batch_ix, dtype=torch.int64)\n",
        "\n",
        "logp_seq = rnn_loop(char_rnn, batch_ix)\n",
        "\n",
        "predictions_logp = logp_seq[:, :-1]\n",
        "actual_next_tokens = batch_ix[:, 1:]\n",
        "#print(predictions_logp.shape)\n",
        "#print(actual_next_tokens.shape)\n",
        "# .contiguous() method checks that tensor is stored in the memory correctly to \n",
        "# get its view of desired shape.\n",
        "\n",
        "loss = criterion(predictions_logp.contiguous().view(-1, num_tokens), \n",
        "                  actual_next_tokens.contiguous().view(-1))\n",
        "print(loss)"
      ],
      "execution_count": 92,
      "outputs": [
        {
          "output_type": "stream",
          "text": [
            "tensor(4.4642, grad_fn=<NllLossBackward>)\n"
          ],
          "name": "stdout"
        }
      ]
    },
    {
      "cell_type": "code",
      "metadata": {
        "id": "y4Ki6XHPzf5F"
      },
      "source": [
        "from IPython.display import clear_output\n",
        "from random import sample\n",
        "\n",
        "char_rnn = CharRNNCell()\n",
        "criterion = nn.NLLLoss(ignore_index = token_to_id[PAD])\n",
        "#opt = torch.optim.Adam(char_rnn.parameters(), )\n",
        "history = []"
      ],
      "execution_count": 124,
      "outputs": []
    },
    {
      "cell_type": "code",
      "metadata": {
        "id": "eT3sInCsE5DD"
      },
      "source": [
        "sonets = poems.copy()"
      ],
      "execution_count": 94,
      "outputs": []
    },
    {
      "cell_type": "code",
      "metadata": {
        "colab": {
          "base_uri": "https://localhost:8080/",
          "height": 622
        },
        "id": "mINkUg2hvq1K",
        "outputId": "ac00ce97-85d0-4095-9ac2-cbf2b01c7c85"
      },
      "source": [
        "import pickle\n",
        "\n",
        "opt = torch.optim.Adam(char_rnn.parameters(), lr=1e-4, amsgrad=True)\n",
        "#opt = torch.optim.SGD(model.parameters(), lr=1e-4, momentum=0.9)\n",
        "scheduler = torch.optim.lr_scheduler.CosineAnnealingWarmRestarts(optimizer, 100, 1)\n",
        "#scheduler = torch.optim.lr_scheduler.ReduceLROnPlateau(\n",
        "#    opt, \n",
        "#    patience=10, \n",
        "#    verbose=True, \n",
        "#    factor=0.5,\n",
        "#    threshold = 0.0001\n",
        "#)\n",
        "\n",
        "for i in range(5000):\n",
        "    batch_ix = to_matrix(sample(sonets, 32))\n",
        "    batch_ix = torch.tensor(batch_ix, dtype=torch.int64)\n",
        "    logp_seq = rnn_loop(char_rnn, batch_ix)\n",
        "    # compute loss\n",
        "    predictions_logp = logp_seq[:, :-1]\n",
        "    actual_next_tokens = batch_ix[:, 1:]\n",
        "    loss = criterion(predictions_logp.contiguous().view(-1, num_tokens), \n",
        "                  actual_next_tokens.contiguous().view(-1))\n",
        "    #print(loss.item())\n",
        "    # train with backprop\n",
        "    loss.backward()\n",
        "    opt.step()\n",
        "    opt.zero_grad()\n",
        "    loss_value = loss.data.numpy()\n",
        "    scheduler.step(loss_value)\n",
        "    # YOUR CODE HERE\n",
        "    history.append(loss.data.numpy())\n",
        "    if (i+1)%100==0:\n",
        "        clear_output(True)\n",
        "        plt.plot(history,label='loss')\n",
        "        plt.legend()\n",
        "        plt.show()\n",
        "\n",
        "    if (i+1)%500==0:\n",
        "        with open(f\"/content/drive/MyDrive/MADE/semester2/NLP/char_rnn_onegin{loss_value}.pth\", \"wb\") as fp:\n",
        "                 torch.save(model.state_dict(), fp)\n",
        "        #with open(f\"/content/drive/MyDrive/MADE/semester2/NLP/char_rnn_onegin{loss_value}.pkl\", \"wb\") as fp:\n",
        "         #   pickle.dump(char_rnn, fp)   \n",
        "\n",
        "\n",
        "assert np.mean(history[:10]) > np.mean(history[-10:]), \"RNN didn't converge.\""
      ],
      "execution_count": 146,
      "outputs": [
        {
          "output_type": "display_data",
          "data": {
            "image/png": "[encoded data removed]",
            "text/plain": [
              "<Figure size 432x288 with 1 Axes>"
            ]
          },
          "metadata": {
            "tags": [],
            "needs_background": "light"
          }
        },
        {
          "output_type": "error",
          "ename": "KeyboardInterrupt",
          "evalue": "ignored",
          "traceback": [
            "\u001b[0;31m---------------------------------------------------------------------------\u001b[0m",
            "\u001b[0;31mKeyboardInterrupt\u001b[0m                         Traceback (most recent call last)",
            "\u001b[0;32m<ipython-input-146-f35c8dc2c961>\u001b[0m in \u001b[0;36m<module>\u001b[0;34m()\u001b[0m\n\u001b[1;32m     23\u001b[0m     \u001b[0;31m#print(loss.item())\u001b[0m\u001b[0;34m\u001b[0m\u001b[0;34m\u001b[0m\u001b[0;34m\u001b[0m\u001b[0m\n\u001b[1;32m     24\u001b[0m     \u001b[0;31m# train with backprop\u001b[0m\u001b[0;34m\u001b[0m\u001b[0;34m\u001b[0m\u001b[0;34m\u001b[0m\u001b[0m\n\u001b[0;32m---> 25\u001b[0;31m     \u001b[0mloss\u001b[0m\u001b[0;34m.\u001b[0m\u001b[0mbackward\u001b[0m\u001b[0;34m(\u001b[0m\u001b[0;34m)\u001b[0m\u001b[0;34m\u001b[0m\u001b[0;34m\u001b[0m\u001b[0m\n\u001b[0m\u001b[1;32m     26\u001b[0m     \u001b[0mopt\u001b[0m\u001b[0;34m.\u001b[0m\u001b[0mstep\u001b[0m\u001b[0;34m(\u001b[0m\u001b[0;34m)\u001b[0m\u001b[0;34m\u001b[0m\u001b[0;34m\u001b[0m\u001b[0m\n\u001b[1;32m     27\u001b[0m     \u001b[0mopt\u001b[0m\u001b[0;34m.\u001b[0m\u001b[0mzero_grad\u001b[0m\u001b[0;34m(\u001b[0m\u001b[0;34m)\u001b[0m\u001b[0;34m\u001b[0m\u001b[0;34m\u001b[0m\u001b[0m\n",
            "\u001b[0;32m/usr/local/lib/python3.7/dist-packages/torch/tensor.py\u001b[0m in \u001b[0;36mbackward\u001b[0;34m(self, gradient, retain_graph, create_graph, inputs)\u001b[0m\n\u001b[1;32m    243\u001b[0m                 \u001b[0mcreate_graph\u001b[0m\u001b[0;34m=\u001b[0m\u001b[0mcreate_graph\u001b[0m\u001b[0;34m,\u001b[0m\u001b[0;34m\u001b[0m\u001b[0;34m\u001b[0m\u001b[0m\n\u001b[1;32m    244\u001b[0m                 inputs=inputs)\n\u001b[0;32m--> 245\u001b[0;31m         \u001b[0mtorch\u001b[0m\u001b[0;34m.\u001b[0m\u001b[0mautograd\u001b[0m\u001b[0;34m.\u001b[0m\u001b[0mbackward\u001b[0m\u001b[0;34m(\u001b[0m\u001b[0mself\u001b[0m\u001b[0;34m,\u001b[0m \u001b[0mgradient\u001b[0m\u001b[0;34m,\u001b[0m \u001b[0mretain_graph\u001b[0m\u001b[0;34m,\u001b[0m \u001b[0mcreate_graph\u001b[0m\u001b[0;34m,\u001b[0m \u001b[0minputs\u001b[0m\u001b[0;34m=\u001b[0m\u001b[0minputs\u001b[0m\u001b[0;34m)\u001b[0m\u001b[0;34m\u001b[0m\u001b[0;34m\u001b[0m\u001b[0m\n\u001b[0m\u001b[1;32m    246\u001b[0m \u001b[0;34m\u001b[0m\u001b[0m\n\u001b[1;32m    247\u001b[0m     \u001b[0;32mdef\u001b[0m \u001b[0mregister_hook\u001b[0m\u001b[0;34m(\u001b[0m\u001b[0mself\u001b[0m\u001b[0;34m,\u001b[0m \u001b[0mhook\u001b[0m\u001b[0;34m)\u001b[0m\u001b[0;34m:\u001b[0m\u001b[0;34m\u001b[0m\u001b[0;34m\u001b[0m\u001b[0m\n",
            "\u001b[0;32m/usr/local/lib/python3.7/dist-packages/torch/autograd/__init__.py\u001b[0m in \u001b[0;36mbackward\u001b[0;34m(tensors, grad_tensors, retain_graph, create_graph, grad_variables, inputs)\u001b[0m\n\u001b[1;32m    145\u001b[0m     Variable._execution_engine.run_backward(\n\u001b[1;32m    146\u001b[0m         \u001b[0mtensors\u001b[0m\u001b[0;34m,\u001b[0m \u001b[0mgrad_tensors_\u001b[0m\u001b[0;34m,\u001b[0m \u001b[0mretain_graph\u001b[0m\u001b[0;34m,\u001b[0m \u001b[0mcreate_graph\u001b[0m\u001b[0;34m,\u001b[0m \u001b[0minputs\u001b[0m\u001b[0;34m,\u001b[0m\u001b[0;34m\u001b[0m\u001b[0;34m\u001b[0m\u001b[0m\n\u001b[0;32m--> 147\u001b[0;31m         allow_unreachable=True, accumulate_grad=True)  # allow_unreachable flag\n\u001b[0m\u001b[1;32m    148\u001b[0m \u001b[0;34m\u001b[0m\u001b[0m\n\u001b[1;32m    149\u001b[0m \u001b[0;34m\u001b[0m\u001b[0m\n",
            "\u001b[0;31mKeyboardInterrupt\u001b[0m: "
          ]
        }
      ]
    },
    {
      "cell_type": "markdown",
      "metadata": {
        "id": "IX6kCgQ8zwTg"
      },
      "source": [
        "Минимальное значение лосса получаем, меняя оптизмайзеры c Adam и ReduceLROnPlateau в начале, на SGD в конце. Пробовала подключить шедьюлер CosineAnnealingWarmRestarts, который периодически меняет значение lr от максимального до минимального (период растет), когда лосс совсем перестал убывать. Дало небольшое уменьшение лосса.\n",
        "В результате минимальное полученное значение лосса 0.54.\n",
        "\n",
        "Так же заметила, что чем более сложная сеть, например чем больше размер hidden слоя, тем меньший лосс удается получить."
      ]
    },
    {
      "cell_type": "code",
      "metadata": {
        "id": "BXPh6S3jNCl1"
      },
      "source": [
        "#with open(\"/content/drive/MyDrive/MADE/semester2/NLP/char_rnn_onegin.pkl\", \"wb\") as fp:\n",
        "#             pickle.dump(char_rnn, fp)"
      ],
      "execution_count": null,
      "outputs": []
    },
    {
      "cell_type": "code",
      "metadata": {
        "id": "64nmf4_hIpJE"
      },
      "source": [
        "model = CharRNNCell()\n",
        "with open(\"/content/drive/MyDrive/MADE/semester2/NLP/char_rnn_onegin0.5484821200370789.pth\", \"rb\") as fp:\n",
        "    best_state_dict = torch.load(fp, map_location=\"cpu\")\n",
        "    model.load_state_dict(best_state_dict)\n"
      ],
      "execution_count": null,
      "outputs": []
    },
    {
      "cell_type": "code",
      "metadata": {
        "id": "iBBPCbCc5AlS"
      },
      "source": [
        "MAX_LENGTH = 300"
      ],
      "execution_count": 149,
      "outputs": []
    },
    {
      "cell_type": "code",
      "metadata": {
        "colab": {
          "base_uri": "https://localhost:8080/"
        },
        "id": "PqBr4kL0f3ej",
        "outputId": "4eaa7c47-aecf-4217-c9b6-188994a98122"
      },
      "source": [
        "from google.colab import drive\n",
        "drive.mount('/content/drive')"
      ],
      "execution_count": 229,
      "outputs": [
        {
          "output_type": "stream",
          "text": [
            "Drive already mounted at /content/drive; to attempt to forcibly remount, call drive.mount(\"/content/drive\", force_remount=True).\n"
          ],
          "name": "stdout"
        }
      ]
    },
    {
      "cell_type": "code",
      "metadata": {
        "id": "qRYg5A9lqNhH"
      },
      "source": [
        "def generate_sample(char_rnn, seed_phrase='  ', max_length= MAX_LENGTH, temperature=1.0):\n",
        "    '''\n",
        "    ### Disclaimer: this is an example function for text generation.\n",
        "    ### You can either adapt it in your code or create your own function\n",
        "    \n",
        "    The function generates text given a phrase of length at least SEQ_LENGTH.\n",
        "    :param seed_phrase: prefix characters. The RNN is asked to continue the phrase\n",
        "    :param max_length: maximum output length, including seed_phrase\n",
        "    :param temperature: coefficient for sampling.  higher temperature produces more chaotic outputs, \n",
        "        smaller temperature converges to the single most likely output.\n",
        "        \n",
        "    Be careful with the model output. This model waits logits (not probabilities/log-probabilities)\n",
        "    of the next symbol.\n",
        "    '''\n",
        "    \n",
        "    x_sequence = [token_to_id[token] for token in seed_phrase]\n",
        "    x_sequence = torch.tensor([x_sequence], dtype=torch.int64)\n",
        "    hid_state = char_rnn.initial_state(batch_size=1)\n",
        "    \n",
        "    #feed the seed phrase, if any\n",
        "    for i in range(len(seed_phrase) - 1):\n",
        "        #print(x_sequence[:, -1].shape, hid_state.shape)\n",
        "        hid_state, out = char_rnn(x_sequence[:, i], hid_state)\n",
        "    \n",
        "    #start generating\n",
        "    for _ in range(max_length - len(seed_phrase)):\n",
        "        #print(x_sequence.shape, x_sequence, hid_state.shape)\n",
        "        hid_state, out = char_rnn(x_sequence[:, -1], hid_state)\n",
        "        # Be really careful here with the model output\n",
        "        p_next = F.softmax(out / temperature, dim=-1).data.numpy()[0]\n",
        "        \n",
        "        # sample next token and push it back into x_sequence\n",
        "        #print(p_next.shape, len(tokens))\n",
        "        next_ix = np.random.choice(len(tokens), p=p_next)\n",
        "        next_ix = torch.tensor([[next_ix]], dtype=torch.int64)\n",
        "        #print(x_sequence.shape, next_ix.shape)\n",
        "        x_sequence = torch.cat([x_sequence, next_ix], dim=1)\n",
        "    result = ''.join([tokens[ix] for ix in x_sequence.data.numpy()[0]])\n",
        "    #result.replace(0, \"\")    \n",
        "    return result"
      ],
      "execution_count": 359,
      "outputs": []
    },
    {
      "cell_type": "markdown",
      "metadata": {
        "id": "7otqdBLD4RMM"
      },
      "source": [
        "Генерируем тексты для различных температур и модели с минимальным лоссом. Уменьшение температуры делает распределение следующей буквы наиболее однозначно выделяя определенную букву, а увеличение температуры в пределе стремится сделать вероятность всех букв одинаковой. Таким образом, повышая температуру мы получаем менее вероятные слова, иногда не существующие."
      ]
    },
    {
      "cell_type": "code",
      "metadata": {
        "id": "QpYonS6sqNhI"
      },
      "source": [
        "# An example of generated text.\n",
        "result = generate_sample(char_rnn, seed_phrase='< как часто летнею порою\\n', max_length= 1000, temperature=0.1)"
      ],
      "execution_count": 160,
      "outputs": []
    },
    {
      "cell_type": "markdown",
      "metadata": {
        "id": "7JLRjOhE7m9l"
      },
      "source": [
        "Температура 0.1"
      ]
    },
    {
      "cell_type": "code",
      "metadata": {
        "colab": {
          "base_uri": "https://localhost:8080/"
        },
        "id": "GKbjjYC8huFx",
        "outputId": "54b6f9fb-5a3e-41b6-bd55-9af746005d51"
      },
      "source": [
        "ind = result.find('>')\n",
        "print(result[0: ind + 1])"
      ],
      "execution_count": 161,
      "outputs": [
        {
          "output_type": "stream",
          "text": [
            "< как часто летнею порою\n",
            "* и все круживая стеклася\n",
            "* я безменял сердце ей.\n",
            "* корстизо. но любит голос, —\n",
            "* то счалася греметь его.>\n"
          ],
          "name": "stdout"
        }
      ]
    },
    {
      "cell_type": "markdown",
      "metadata": {
        "id": "sI2tbfij7lSC"
      },
      "source": [
        "Температура 0.5"
      ]
    },
    {
      "cell_type": "code",
      "metadata": {
        "colab": {
          "base_uri": "https://localhost:8080/"
        },
        "id": "jZbEvMndBHqK",
        "outputId": "0d368565-04f4-4513-dcc6-d268e55aac3a"
      },
      "source": [
        "result = (generate_sample(char_rnn, seed_phrase='< как часто летнею порою\\n', max_length= 1000, temperature=0.5))\n",
        "ind = result.find('>')\n",
        "print(result[0: ind + 1])\n"
      ],
      "execution_count": 167,
      "outputs": [
        {
          "output_type": "stream",
          "text": [
            "< как часто летнею порою\n",
            "* и все круживая восквель,\n",
            "* она громит в ней най доброй вновь\n",
            "* расстаться на руках свой пирог\n",
            "* и лицо братяе моды,\n",
            "* в окно слышит о сенегам;\n",
            "* с девочкой неосподован\n",
            "* вдруг он слачки актары\n",
            "* в душою видел он\n",
            "* и страстей и утрежною, —\n",
            "* всё тридцати значрого стихах\n",
            "* я не слушает молодых,\n",
            "* открыть преданный брик,\n",
            "* без милой одесовай);\n",
            "* но скоти светскою не доставе\n",
            "* с хетушка, так уж и нежной,\n",
            "* как жельчиным слова народы\n",
            "* ту, чтобный ветреное привляндана\n",
            "* татьяна бедная уши,\n",
            "* и гордость моего романа,\n",
            "* в саду… створен. милой своей пиром,\n",
            "* итешен и громать его,\n",
            "* а было тайнын чувству открыль,\n",
            "* и с ним покамест, ни силь разлоя\n",
            "* света шесная, за них день\n",
            "* его одной. так же шумной\n",
            "* обноврички моя, весна жаль.\n",
            "* среди проводами сы вот\n",
            "* мелькали кловенной след,\n",
            "* всё тот же друг молодой век.>\n"
          ],
          "name": "stdout"
        }
      ]
    },
    {
      "cell_type": "markdown",
      "metadata": {
        "id": "UsEFPn4k7uvT"
      },
      "source": [
        "Температура 0.2"
      ]
    },
    {
      "cell_type": "code",
      "metadata": {
        "id": "llzpcznwBzal",
        "colab": {
          "base_uri": "https://localhost:8080/"
        },
        "outputId": "c347af30-43c7-4a68-f375-5352c50ebeb6"
      },
      "source": [
        "result = generate_sample(char_rnn, seed_phrase='< мне памятно другое время!\\n', max_length= 700, temperature=0.2)\n",
        "ind = result.find('>')\n",
        "print(result[0: ind + 1])"
      ],
      "execution_count": 168,
      "outputs": [
        {
          "output_type": "stream",
          "text": [
            "< мне памятно другое время!\n",
            "* в моднеть умел ваш гранит,\n",
            "* и так подали за нею;\n",
            "* страхам должна в том соседин,\n",
            "* и в сад подня был он мне —\n",
            "* всё душу те он возмужить,\n",
            "* летают рожда тайно гоним.\n",
            "* всегда я не спешит,\n",
            "* к нескобна уж как ранний,\n",
            "* души могла, покой себя,\n",
            "* о совсем летер и нет най.\n",
            "* он мне над озерка умом;\n",
            "* онегин, высоком других\n",
            "* для недогнеми бесела:\n",
            "* сперший образец... и послепет,\n",
            "* в костенит на устаруж,\n",
            "* но полно, шалости вервим\n",
            "* достаянь матушки теревой).\n",
            "* всё тет и на легкой пустой.>\n"
          ],
          "name": "stdout"
        }
      ]
    },
    {
      "cell_type": "markdown",
      "metadata": {
        "id": "oD2-DU6N7xnT"
      },
      "source": [
        "Тексты получились так себе, структура текста есть, но рифма и слог стиха не прослеживаются, также многие слова получаются даже в случае низкой температуры несуществующие"
      ]
    },
    {
      "cell_type": "code",
      "metadata": {
        "id": "ZMbHNfOSGUlU"
      },
      "source": [
        "char_rnn = CharRNNCell()\n",
        "criterion = nn.NLLLoss(ignore_index = token_to_id[PAD])\n",
        "#opt = torch.optim.Adam(char_rnn.parameters(), )\n",
        "history = []"
      ],
      "execution_count": 329,
      "outputs": []
    },
    {
      "cell_type": "markdown",
      "metadata": {
        "id": "WMoH9KiXIGhV"
      },
      "source": [
        "Возможно то, что не получается получить лосс с меньшим значением связано еще и с проблемой затухающих градиентов, от которой rnn не застрахована.\n",
        "Попробуем уменьшить длину последовательности до 100, подаваемую модели."
      ]
    },
    {
      "cell_type": "code",
      "metadata": {
        "colab": {
          "base_uri": "https://localhost:8080/",
          "height": 265
        },
        "id": "3bmSNNvPFJeu",
        "outputId": "2b027e4d-9f1e-4a7b-d33f-1118c0f6c353"
      },
      "source": [
        "opt = torch.optim.Adam(char_rnn.parameters(), lr=1e-3, amsgrad=True)\n",
        "#scheduler = torch.optim.lr_scheduler.CosineAnnealingWarmRestarts(optimizer, 100, 1)\n",
        "#scheduler = torch.optim.lr_scheduler.ReduceLROnPlateau(\n",
        "#    opt, \n",
        "#    patience=10, \n",
        "#    verbose=True, \n",
        "#    factor=0.5,\n",
        "#    threshold = 0.0001\n",
        "#)\n",
        "\n",
        "for i in range(5000):\n",
        "    batch_ix = to_matrix(sample(sonets, 32), max_len = 400)\n",
        "    batch_ix = torch.tensor(batch_ix, dtype=torch.int64)\n",
        "    logp_seq = rnn_loop(char_rnn, batch_ix)\n",
        "    # compute loss\n",
        "    predictions_logp = logp_seq[:, :-1]\n",
        "    actual_next_tokens = batch_ix[:, 1:]\n",
        "    loss = criterion(predictions_logp.contiguous().view(-1, num_tokens), \n",
        "                  actual_next_tokens.contiguous().view(-1))\n",
        "    #print(loss.item())\n",
        "    # train with backprop\n",
        "    loss.backward()\n",
        "    opt.step()\n",
        "    opt.zero_grad()\n",
        "    loss_value = loss.data.numpy()\n",
        "    scheduler.step(loss_value)\n",
        "    # YOUR CODE HERE\n",
        "    history.append(loss.data.numpy())\n",
        "    if (i+1)%100==0:\n",
        "        clear_output(True)\n",
        "        plt.plot(history,label='loss')\n",
        "        plt.legend()\n",
        "        plt.show()\n",
        "\n",
        "    if (i+1)%500==0:\n",
        "        with open(f\"/content/drive/MyDrive/MADE/semester2/NLP/char_rnn_onegin{loss_value}.pth\", \"wb\") as fp:\n",
        "                 torch.save(model.state_dict(), fp)\n",
        "        #with open(f\"/content/drive/MyDrive/MADE/semester2/NLP/char_rnn_onegin{loss_value}.pkl\", \"wb\") as fp:\n",
        "         #   pickle.dump(char_rnn, fp)   \n",
        "\n",
        "\n",
        "assert np.mean(history[:10]) > np.mean(history[-10:]), \"RNN didn't converge.\"\n"
      ],
      "execution_count": 330,
      "outputs": [
        {
          "output_type": "display_data",
          "data": {
            "image/png": "[encoded data removed]",
            "text/plain": [
              "<Figure size 432x288 with 1 Axes>"
            ]
          },
          "metadata": {
            "tags": [],
            "needs_background": "light"
          }
        }
      ]
    },
    {
      "cell_type": "code",
      "metadata": {
        "colab": {
          "base_uri": "https://localhost:8080/"
        },
        "id": "UvkfDfXkIYnZ",
        "outputId": "7b0e672c-26f2-4545-af72-acea60293307"
      },
      "source": [
        "print(history[-1])"
      ],
      "execution_count": 331,
      "outputs": [
        {
          "output_type": "stream",
          "text": [
            "0.086693294\n"
          ],
          "name": "stdout"
        }
      ]
    },
    {
      "cell_type": "code",
      "metadata": {
        "id": "SBCR6n4uIij5"
      },
      "source": [
        "with open(f\"/content/drive/MyDrive/MADE/semester2/NLP/char_rnn_onegin{history[-1]}.pth\", \"wb\") as fp:\n",
        "                 torch.save(model.state_dict(), fp)"
      ],
      "execution_count": 332,
      "outputs": []
    },
    {
      "cell_type": "markdown",
      "metadata": {
        "id": "IZHzFTULIpRy"
      },
      "source": [
        "Лосс получился крайне маленький. Посмотрим, что напредсказывает модель. \n"
      ]
    },
    {
      "cell_type": "code",
      "metadata": {
        "colab": {
          "base_uri": "https://localhost:8080/"
        },
        "id": "2XC9NdyWJaP5",
        "outputId": "d703a78e-e8ef-4afa-89bd-25e626a0856d"
      },
      "source": [
        "result = generate_sample(char_rnn, seed_phrase='< мне памятно другое время!\\n', max_length= 400, temperature=0.5)\n",
        "print(result)\n",
        "#ind = result.find('>')\n",
        "#print(result[0: ind + 1])"
      ],
      "execution_count": 341,
      "outputs": [
        {
          "output_type": "stream",
          "text": [
            "< мне памятно другое время!\n",
            "* в заветных иногда мечтах\n",
            "* держу я счастливое стремя…\n",
            "* и ножку чувства разделой,\n",
            "* порой ленянный жежал…\n",
            "* к немушел ко льбомы, черадиной\n",
            "* как от ужал толной, и ты,\n",
            "* а тепок уж он тревают:\n",
            "* блажут, и дой небеды, в столе,\n",
            "* строфа, коченной жежен\n",
            "* зы глуши натосле на мною.\n",
            "* вот это барадки не моей.\n",
            "* героев наших разлет:\n",
            "* в нему нас печальной девець.\n",
            "* любви бы \n"
          ],
          "name": "stdout"
        }
      ]
    },
    {
      "cell_type": "markdown",
      "metadata": {
        "id": "BDPCrCV1Ka4C"
      },
      "source": [
        "Видим, что моделька предсказала ровно 100 символов с точностью 100 процентов. А больше она предсказывать не умеет.\n",
        "\n",
        "< мне памятно другое время!\n",
        "\n",
        " в заветных иногда мечтах\n",
        "\n",
        " держу я счастливое стремя…\n",
        "\n",
        " и ножку чувства\n",
        "\n",
        " Причем таких стишков по 100 символов не так уж и много при данном способе формирования батча (одна строчка в батче - один стих, стихов достаточно немного) поэтому тем более произошло переобучение\n"
      ]
    },
    {
      "cell_type": "markdown",
      "metadata": {
        "id": "IV3evwW86j0y"
      },
      "source": [
        "Можно было бы обучать на последовательности определенной длины < 200, двигая данное окошко по всей последовательности символов из всех стихов. Тогда бы таких примеров было больше и не было бы такого переобучения. Реализуем это уже в новой сети LSTM"
      ]
    },
    {
      "cell_type": "markdown",
      "metadata": {
        "id": "0sq8NYnfqNhJ"
      },
      "source": [
        "### More poetic model\n",
        "\n",
        "Let's use LSTM instead of vanilla RNN and compare the results."
      ]
    },
    {
      "cell_type": "markdown",
      "metadata": {
        "id": "VFhlKo7-qNhK"
      },
      "source": [
        "Plot the loss function of the number of epochs. Does the final loss become better?"
      ]
    },
    {
      "cell_type": "markdown",
      "metadata": {
        "id": "3QtQy72O7Tz2"
      },
      "source": [
        "Теперь создадим двухслойную LSTM. На вход теперь будем подавать случайные последовательности из всего текста определенной длины. Это позволит получать батчи, полностью наполненные буквами, без паддингов. На выходе получаем предсказанную последовательность из букв. "
      ]
    },
    {
      "cell_type": "code",
      "metadata": {
        "id": "MXAa1CoSG5Qh"
      },
      "source": [
        "from collections import Counter\n",
        "\n",
        "import torch\n",
        "import torch.nn as nn\n",
        "import torch.nn.functional as F\n",
        "import numpy as np"
      ],
      "execution_count": 169,
      "outputs": []
    },
    {
      "cell_type": "code",
      "metadata": {
        "id": "V4HxOSdDiNDu"
      },
      "source": [
        "poems_all = \"\"\n",
        "for s in poems:\n",
        "  poems_all += s\n",
        "  poems_all += \"\\n\\n\""
      ],
      "execution_count": 170,
      "outputs": []
    },
    {
      "cell_type": "code",
      "metadata": {
        "collapsed": true,
        "id": "5NSrbNQnqNhK"
      },
      "source": [
        "class nnLSTM(nn.Module):\n",
        "   def __init__(self, \n",
        "                 input_dim, \n",
        "                 embedding_dim, \n",
        "                 hidden_dim, \n",
        "                 output_dim, \n",
        "                 n_layers, \n",
        "                 bidirectional, \n",
        "                 dropout, \n",
        "                 pad_idx):\n",
        "        super().__init__()\n",
        "\n",
        "        self.hidden_size = hidden_dim\n",
        "        self.n_layers = n_layers\n",
        "        self.embedding = nn.Embedding(input_dim, embedding_dim,\n",
        "                                      padding_idx=pad_idx)\n",
        "\n",
        "        self.lstm = nn.LSTM(embedding_dim, \n",
        "                            hidden_dim, \n",
        "                            num_layers=n_layers) \n",
        "        self.dropout = nn.Dropout(dropout)\n",
        "        self.fc = nn.Linear(self.hidden_size, output_dim)\n",
        "\n",
        "        \n",
        "\n",
        "   def forward(self, text, hidden):\n",
        "        # text shape: (sent len, batch size)\n",
        "        \n",
        "        # Pass text through the embedding layer:\n",
        "        embedded = self.embedding(text).squeeze(2)\n",
        "        #embedded = self.dropout(self.embedding(text))\n",
        "\n",
        "        # embedded shape: (sent len, batch size, emb dim)\n",
        "\n",
        "        # Pass embeddings through the LSTM:\n",
        "        outputs, (hidden, cell) = self.lstm(embedded, hidden)\n",
        "        # Outputs hold the backward and forward hidden states\n",
        "        # in the final layer.\n",
        "        # Hidden and cell are the backward and forward hidden and cell states\n",
        "        # at the final time-step.\n",
        "        # output shape: (sent len, batch size, hid dim * n directions)\n",
        "        # hidden/cell shape: (n layers * n directions, batch size, hid dim)\n",
        "        #we use our outputs to make a prediction of what the tag should be\n",
        "        text = self.fc(self.dropout(outputs))\n",
        "        # predictions shape: (sent len, batch size, output dim)\n",
        "\n",
        "        return text, (hidden, cell)\n",
        "   def init_hidden(self, batch_size=1):\n",
        "       return (torch.zeros(self.n_layers, batch_size, self.hidden_size, requires_grad=True).to(device),\n",
        "               torch.zeros(self.n_layers, batch_size, self.hidden_size, requires_grad=True).to(device))    "
      ],
      "execution_count": 171,
      "outputs": []
    },
    {
      "cell_type": "markdown",
      "metadata": {
        "id": "QZPBfwlY-k0v"
      },
      "source": [
        "Размер последовательности возьмем равным 250 символам. Размер батча - 16"
      ]
    },
    {
      "cell_type": "code",
      "metadata": {
        "id": "hvcPHJdpbNHA"
      },
      "source": [
        "SAMPLE_LEN = 250\n",
        "BATCH_SIZE = 16\n",
        "\n",
        "def create_batch(sequence):\n",
        "    inputs = []\n",
        "    targets = []\n",
        "    for _ in range(BATCH_SIZE):\n",
        "        start = np.random.randint(0, len(sequence) - SAMPLE_LEN)\n",
        "        seq_cur = sequence[start: start + SAMPLE_LEN]\n",
        "        input = torch.LongTensor(seq_cur[:-1]).view(-1, 1)\n",
        "        target = torch.LongTensor(seq_cur[1:]).view(-1, 1)\n",
        "        inputs.append(input)\n",
        "        targets.append(target)\n",
        "    return torch.stack(inputs, dim=0), torch.stack(targets, dim=0)"
      ],
      "execution_count": 387,
      "outputs": []
    },
    {
      "cell_type": "markdown",
      "metadata": {
        "id": "EyBMlBuNDeMZ"
      },
      "source": [
        "Берем следующие гиперпараметры , размер embedding слоя - количество букв в алфавите, размер скрытого слоя - 200, dropout слой с коэффициентом 0.25"
      ]
    },
    {
      "cell_type": "code",
      "metadata": {
        "colab": {
          "base_uri": "https://localhost:8080/"
        },
        "id": "KxLg0WkIbMZk",
        "outputId": "9be695f7-9df4-41bf-fd93-56c0345b3fe9"
      },
      "source": [
        "INPUT_DIM = num_tokens\n",
        "EMBEDDING_DIM = num_tokens\n",
        "HIDDEN_DIM = 200\n",
        "OUTPUT_DIM = num_tokens\n",
        "N_LAYERS = 2\n",
        "BIDIRECTIONAL = False\n",
        "DROPOUT = 0.25\n",
        "PAD_IDX = token_to_id[PAD]\n",
        "\n",
        "device = torch.device('cuda') if torch.cuda.is_available() else torch.device('cpu')\n",
        "\n",
        "model = nnLSTM(INPUT_DIM,\n",
        "                        EMBEDDING_DIM,\n",
        "                        HIDDEN_DIM,\n",
        "                        OUTPUT_DIM,\n",
        "                        N_LAYERS,\n",
        "                        BIDIRECTIONAL,\n",
        "                        DROPOUT,\n",
        "                        PAD_IDX)\n",
        "model.to(device)"
      ],
      "execution_count": 198,
      "outputs": [
        {
          "output_type": "execute_result",
          "data": {
            "text/plain": [
              "nnLSTM(\n",
              "  (embedding): Embedding(87, 87, padding_idx=86)\n",
              "  (lstm): LSTM(87, 200, num_layers=2)\n",
              "  (dropout): Dropout(p=0.25, inplace=False)\n",
              "  (fc): Linear(in_features=200, out_features=87, bias=True)\n",
              ")"
            ]
          },
          "metadata": {
            "tags": []
          },
          "execution_count": 198
        }
      ]
    },
    {
      "cell_type": "markdown",
      "metadata": {
        "id": "KXcGrOAPDdG4"
      },
      "source": [
        "Запускаем процесс обучения модели. Пользуемся опять же оптимизатором Adam, SGD и шедьюлером ReduceLROnPlateau."
      ]
    },
    {
      "cell_type": "code",
      "metadata": {
        "id": "dLuEfA4-4ORU",
        "colab": {
          "base_uri": "https://localhost:8080/",
          "height": 265
        },
        "outputId": "45c8162a-1e36-4f22-8495-c1e453356d2e"
      },
      "source": [
        "\n",
        "#criterion = nn.CrossEntropyLoss()\n",
        "#optimizer = torch.optim.Adam(model.parameters(), lr=1e-2, amsgrad=True)\n",
        "optimizer = torch.optim.SGD(model.parameters(), lr=0.000001, momentum=0.9)\n",
        "#scheduler = torch.optim.lr_scheduler.ReduceLROnPlateau(\n",
        "#    optimizer, \n",
        "#    patience=6, \n",
        "#    verbose=True, \n",
        "#    factor=0.5\n",
        "#)\n",
        "\n",
        "n_epochs = 10000\n",
        "#loss_avg = []\n",
        "#sequence = np.array([token_to_id[char] for char in poems_all])\n",
        "#history = []\n",
        "\n",
        "for i in range(n_epochs):\n",
        "    model.train()\n",
        "    train, target = get_batch(sequence)\n",
        "    train = train.permute(1, 0, 2).to(device)\n",
        "    target = target.permute(1, 0, 2).to(device)\n",
        "    hidden = model.init_hidden(BATCH_SIZE)\n",
        "\n",
        "    output, hidden = model(train, hidden)\n",
        "    loss = criterion(output.permute(1, 2, 0), target.squeeze(-1).permute(1, 0))\n",
        "    \n",
        "    loss.backward()\n",
        "    optimizer.step()\n",
        "    optimizer.zero_grad()\n",
        "    history.append(loss.item())\n",
        "    \n",
        "    loss_avg.append(loss.item())\n",
        "\n",
        "    if (i+1)%500==0:\n",
        "          with open(f\"/content/drive/MyDrive/MADE/semester2/NLP/char_lstm_onegin{history[-1]}.pth\", \"wb\") as fp:\n",
        "                 torch.save(model.state_dict(), fp)\n",
        "\n",
        "    if len(loss_avg) >= 50:\n",
        "        mean_loss = np.mean(loss_avg)\n",
        "        #print(f'Loss: {mean_loss}')\n",
        "        scheduler.step(mean_loss)\n",
        "        loss_avg = []\n",
        "        #model.eval()\n",
        "        #predicted_text = evaluate(model, char_to_idx, idx_to_char)\n",
        "        #print(predicted_text)\n",
        "\n",
        "        clear_output(True)\n",
        "        plt.plot(history,label='loss')\n",
        "        plt.legend()\n",
        "        plt.show()\n"
      ],
      "execution_count": 226,
      "outputs": [
        {
          "output_type": "display_data",
          "data": {
            "image/png": "[encoded data removed]",
            "text/plain": [
              "<Figure size 432x288 with 1 Axes>"
            ]
          },
          "metadata": {
            "tags": [],
            "needs_background": "light"
          }
        }
      ]
    },
    {
      "cell_type": "markdown",
      "metadata": {
        "id": "0JCggmtxD_3A"
      },
      "source": [
        "На графике видно, когда лосс перестает убывать, включается шедьюлер и уменьшает шаг. В результате видим небольшую ступеньку и уменьшение лосса."
      ]
    },
    {
      "cell_type": "markdown",
      "metadata": {
        "id": "PdvYWggCEQJD"
      },
      "source": [
        "На этот раз обучаем модель до значения лосса 0.24. Видим, что нам удалось  получить мЕньшее значение лосса, чем в vanilla-RNN на бОльшей длине последовательности, на которой учимся. Это связано еще и с тем, что в LSTM эффект затухания градиента не так явно выражен, как в RNN. В результате получаем минимальное значение лосса - 0.2421"
      ]
    },
    {
      "cell_type": "code",
      "metadata": {
        "colab": {
          "base_uri": "https://localhost:8080/"
        },
        "id": "6OL2X-DjYOC_",
        "outputId": "e55d165a-3f23-4886-d619-bdb8c61eb006"
      },
      "source": [
        "print(history[-1])"
      ],
      "execution_count": 270,
      "outputs": [
        {
          "output_type": "stream",
          "text": [
            "0.2441912293434143\n"
          ],
          "name": "stdout"
        }
      ]
    },
    {
      "cell_type": "code",
      "metadata": {
        "id": "slJiNhcfYJDO"
      },
      "source": [
        "with open(f\"/content/drive/MyDrive/MADE/semester2/NLP/char_lstm_onegin{history[-1]}.pth\", \"wb\") as fp:\n",
        "                 torch.save(model.state_dict(), fp)\n"
      ],
      "execution_count": 209,
      "outputs": []
    },
    {
      "cell_type": "markdown",
      "metadata": {
        "id": "J_PbeJoWqNhL"
      },
      "source": [
        "Generate text using the trained net with different `temperature` parameter: `[0.1, 0.2, 0.5, 1.0, 2.0]`.\n",
        "\n",
        "Evaluate the results visually, try to interpret them."
      ]
    },
    {
      "cell_type": "code",
      "metadata": {
        "collapsed": true,
        "id": "tL4XtRDYqNhL"
      },
      "source": [
        "MAX_LENGTH = 300\n",
        "def generate_sample_lstm(model, seed_phrase='  when ', max_length= MAX_LENGTH, temperature=1.0):\n",
        "       \n",
        "    x_sequence = [token_to_id[token] for token in seed_phrase]\n",
        "    x_sequence = torch.tensor([x_sequence], dtype=torch.int64).view(-1, 1, 1).to(device)\n",
        "    #hid_state = char_rnn.initial_state(batch_size=1)\n",
        "    \n",
        "    #feed the seed phrase, if any\n",
        "    #for i in range(len(seed_phrase) - 1):\n",
        "    #    print(x_sequence[:, -1].shape, hid_state.shape)\n",
        "    result = seed_phrase\n",
        "    hidden = model.init_hidden()\n",
        "    _, hidden = model(x_sequence, hidden)\n",
        "\n",
        "    inp = x_sequence[-1].view(-1, 1, 1)\n",
        "    \n",
        "    #start generating\n",
        "    for _ in range(max_length - len(seed_phrase)):\n",
        "        #print(x_sequence.shape, x_sequence)#, hid_state.shape)\n",
        "        #hid_state, out = char_rnn(x_sequence[:, -1], hid_state)\n",
        "        # Be really careful here with the model output\n",
        "        prediction, hidden = model(inp.to(device), hidden)\n",
        "        prediction_logits = prediction.cpu().data.view(-1)\n",
        "        #print(len(prediction_logits))\n",
        "        p_next = F.softmax(prediction_logits / temperature, dim=-1).detach().cpu().data.numpy()  \n",
        "        #print(len(p_next))    \n",
        "        \n",
        "        next_index = np.random.choice(len(tokens), p=p_next)\n",
        "        inp = torch.tensor([next_index], dtype=torch.int64).view(-1, 1, 1).to(device)\n",
        "        next_char = idx_to_token[next_index]\n",
        "        result  += next_char\n",
        "    result = result.replace(\"* \", \"  \")    \n",
        "    return result"
      ],
      "execution_count": 210,
      "outputs": []
    },
    {
      "cell_type": "markdown",
      "metadata": {
        "id": "nhsY1rfzqNhL"
      },
      "source": [
        "### Saving and loading models"
      ]
    },
    {
      "cell_type": "markdown",
      "metadata": {
        "id": "ZdQsxCTlqNhL"
      },
      "source": [
        "Save the model to the disk, then load it and generate text. Examples are available [here](https://pytorch.org/tutorials/beginner/saving_loading_models.html])."
      ]
    },
    {
      "cell_type": "markdown",
      "metadata": {
        "id": "V_J4tTXzrQ08"
      },
      "source": [
        "Достанем модель с самым низким полученным значением loss = 0.2105.\n",
        "Как мне показалось, при таком значении лосса остаются слова, но смысл совсем ускользает. несуществующие слова перемежаются цельными фразами из текста.\n",
        "Чем больше температура, тем меньше фраз полностью из текста, больше разнообразия в фразах."
      ]
    },
    {
      "cell_type": "code",
      "metadata": {
        "id": "M18cXgLIqTQn"
      },
      "source": [
        "with open(\"/content/drive/MyDrive/MADE/semester2/NLP/char_lstm_onegin0.21057948470115662.pth\", \"rb\") as fp:\n",
        "    best_state_dict = torch.load(fp, map_location=\"cpu\")\n",
        "    model.load_state_dict(best_state_dict)\n"
      ],
      "execution_count": 273,
      "outputs": []
    },
    {
      "cell_type": "markdown",
      "metadata": {
        "id": "OPvkz0WMG3Yr"
      },
      "source": [
        "Температура 0.1"
      ]
    },
    {
      "cell_type": "code",
      "metadata": {
        "collapsed": true,
        "id": "jV9AteiTqNhM",
        "colab": {
          "base_uri": "https://localhost:8080/"
        },
        "outputId": "734642d4-2989-4489-c21f-db4986360b0f"
      },
      "source": [
        "x_sequence = generate_sample_lstm(model, seed_phrase='< мой дядя самых честных правил\\n', max_length= 1000, temperature=0.1)\n",
        "ind = x_sequence.find('>')\n",
        "print(x_sequence[0: ind + 1])\n"
      ],
      "execution_count": 277,
      "outputs": [
        {
          "output_type": "stream",
          "text": [
            "< мой дядя самых честных правил\n",
            "  не отражает лукавил;\n",
            "  и очутил он был поэт.\n",
            "  в окнеи совсе их заслуждалась\n",
            "  когда б не правда ли?) пора!>\n"
          ],
          "name": "stdout"
        }
      ]
    },
    {
      "cell_type": "markdown",
      "metadata": {
        "id": "DKmKXmqYG62G"
      },
      "source": [
        "Температура 0.2"
      ]
    },
    {
      "cell_type": "code",
      "metadata": {
        "id": "SttBG_TXM1BV",
        "colab": {
          "base_uri": "https://localhost:8080/"
        },
        "outputId": "35e77f08-ad92-4b86-8d9d-7a835861ac2f"
      },
      "source": [
        "x_sequence = generate_sample_lstm(model, seed_phrase='< как часто летнею порою\\n', max_length= 1000, temperature=0.2)\n",
        "ind = x_sequence.find('>')\n",
        "print(x_sequence[0: ind + 1])"
      ],
      "execution_count": 279,
      "outputs": [
        {
          "output_type": "stream",
          "text": [
            "< как часто летнею порою\n",
            "  к нему слуга француз гильых\n",
            "  и после важно разошлись,\n",
            "  как будто делом занятья\n",
            "  он знал довольно отстал от время,\n",
            "  и сердцем плакать: воеврапила,\n",
            "  не видит никого, кто в предмете:\n",
            "  мы лучше поспешим на бал,\n",
            "  куда стремглав в ямской карете\n",
            "  уж мой онегин послушна,\n",
            "  в гостях улыбку возбуждал\n",
            "  своей осанкою сердечной\n",
            "  на толки промолеи на двери.\n",
            "  теперь солилась на свете;\n",
            "  на красноречив огражешь,\n",
            "  но не скажет, не всё равно.>\n"
          ],
          "name": "stdout"
        }
      ]
    },
    {
      "cell_type": "markdown",
      "metadata": {
        "id": "_0M9RUazG8i0"
      },
      "source": [
        "Температура 0.5"
      ]
    },
    {
      "cell_type": "code",
      "metadata": {
        "colab": {
          "base_uri": "https://localhost:8080/"
        },
        "id": "2QgkY5Z9SO3o",
        "outputId": "fccb9894-e44b-456f-ce43-46291dcfbc1e"
      },
      "source": [
        "x_sequence = generate_sample_lstm(model, seed_phrase='< как часто летнею порою\\n', max_length= 1000, temperature=0.5)\n",
        "ind = x_sequence.find('>')\n",
        "print(x_sequence[0: ind + 1])"
      ],
      "execution_count": 283,
      "outputs": [
        {
          "output_type": "stream",
          "text": [
            "< как часто летнею порою\n",
            "  давно нетерпеливо ждал;\n",
            "  меж тем, механик дедовей,\n",
            "  вдруг душе светлою руке,\n",
            "  я зарецкий зорочи двор,\n",
            "  когда он злую постеле\n",
            "  татьяну в это удили совершить\n",
            "  в тени друг другу в потом\n",
            "  в представить барать уверен,\n",
            "  дитя смело всегда новый\n",
            "  не смеет; мигом обедам\n",
            "  трактиров наших не потом\n",
            "  среди вседневно ждет она.>\n"
          ],
          "name": "stdout"
        }
      ]
    },
    {
      "cell_type": "markdown",
      "metadata": {
        "id": "ZdGhpe_tHA1c"
      },
      "source": [
        "Температура 1.0"
      ]
    },
    {
      "cell_type": "code",
      "metadata": {
        "colab": {
          "base_uri": "https://localhost:8080/"
        },
        "id": "KosExVTYT6un",
        "outputId": "bafb754b-c44d-4f03-fe98-7b28de97a042"
      },
      "source": [
        "x_sequence = generate_sample_lstm(model, seed_phrase='< как часто летнею порою\\n', max_length= 1000, temperature=1.0)\n",
        "ind = x_sequence.find('>')\n",
        "print(x_sequence[0: ind + 1])"
      ],
      "execution_count": 284,
      "outputs": [
        {
          "output_type": "stream",
          "text": [
            "< как часто летнею порою\n",
            "  ко мне падушницы крестам,\n",
            "  и в шалаше и к ней, к ольге страсти\n",
            "  и эту прощают собое\n",
            "  своим обещал он ей страстей,\n",
            "  на смиренные на обуза\n",
            "  пред этой любви милой диной\n",
            "  вы, праздно был по прежнему полей,\n",
            "  когда, нужда и быть должны;\n",
            "  так ваш сердце утра потом\n",
            "  уже редеют лукавико,\n",
            "  и лиликов, супруга ей\n",
            "  они предрады души моя,\n",
            "  ему на шалах и свободы,\n",
            "  в гонит усталие и умхать\n",
            "  и смусный шких и лет.>\n"
          ],
          "name": "stdout"
        }
      ]
    },
    {
      "cell_type": "markdown",
      "metadata": {
        "id": "DjBbBMB5HEp0"
      },
      "source": [
        "Температура 2.0. При этой температуре слова создаются новые несуществующие слова (изчебражденье, счастлипелый)"
      ]
    },
    {
      "cell_type": "code",
      "metadata": {
        "colab": {
          "base_uri": "https://localhost:8080/"
        },
        "id": "a_uO4pmFep6T",
        "outputId": "e4f1cc97-748b-442a-c29a-68fe6f16c62f"
      },
      "source": [
        "x_sequence = generate_sample_lstm(model, seed_phrase='< как часто летнею порою\\n', max_length= 1000, temperature=2.0)\n",
        "ind = x_sequence.find('>')\n",
        "print(x_sequence[0: ind + 1])"
      ],
      "execution_count": 289,
      "outputs": [
        {
          "output_type": "stream",
          "text": [
            "< как часто летнею порою\n",
            "  к гойду вас пружины изчебражденье\n",
            "  на сил бы суросел счастлипелый\n",
            "  несчудиниться я в намару;\n",
            "  но вот и ты знайне ей,\n",
            "  а пиров издалеках.>\n"
          ],
          "name": "stdout"
        }
      ]
    },
    {
      "cell_type": "markdown",
      "metadata": {
        "id": "Zyjzj7hvrNu8"
      },
      "source": [
        "Посмотрим модели с бОльшим лоссом. Хотя смысла в тексте все меньше, но иногда даже проскакивает какая-то рифма и как-будто больше сохраняется ритм стиха"
      ]
    },
    {
      "cell_type": "code",
      "metadata": {
        "id": "YHMAdukXhuGd"
      },
      "source": [
        "with open(\"/content/drive/MyDrive/MADE/semester2/NLP/char_lstm_onegin0.8114542961120605.pth\", \"rb\") as fp:\n",
        "    best_state_dict = torch.load(fp, map_location=\"cpu\")\n",
        "    model.load_state_dict(best_state_dict)"
      ],
      "execution_count": 291,
      "outputs": []
    },
    {
      "cell_type": "code",
      "metadata": {
        "colab": {
          "base_uri": "https://localhost:8080/"
        },
        "id": "ruh-I2J0kh1q",
        "outputId": "0d6d31d7-0c2c-4d1f-9611-a22f8f2acad3"
      },
      "source": [
        "x_sequence = generate_sample_lstm(model, seed_phrase='< от хладного разврата света\\n', max_length= 1000, temperature=0.5)\n",
        "ind = x_sequence.find('>')\n",
        "print(x_sequence[0: ind + 1])"
      ],
      "execution_count": 292,
      "outputs": [
        {
          "output_type": "stream",
          "text": [
            "< от хладного разврата света\n",
            "  ни крестится фарфон и вежда,\n",
            "  за перо, любовник ного брега,\n",
            "  пред этой невернован узон,\n",
            "  когда гремел мазурки толк!\n",
            "  как томен вид и грусти не,\n",
            "  о ножках вы, здесь и блистают думой.\n",
            "  она была на совелелей;\n",
            "  но видим готов со мной\n",
            "  поступила бараын посель.\n",
            "  пока него так наслаждений\n",
            "  одно талии своей.>\n"
          ],
          "name": "stdout"
        }
      ]
    },
    {
      "cell_type": "code",
      "metadata": {
        "colab": {
          "base_uri": "https://localhost:8080/"
        },
        "id": "sdERMl21lIZ7",
        "outputId": "ec2369b1-c9c3-4c33-e117-0ae13693a61b"
      },
      "source": [
        "x_sequence = generate_sample_lstm(model, seed_phrase='< как часто летнею порою\\n', max_length= 1000, temperature=0.2)\n",
        "ind = x_sequence.find('>')\n",
        "print(x_sequence[0: ind + 1])"
      ],
      "execution_count": 293,
      "outputs": [
        {
          "output_type": "stream",
          "text": [
            "< как часто летнею порою\n",
            "  косточкам в глуши степей доски.\n",
            "  она глядит ему в ладких,\n",
            "  с плеча вставал он уверен,\n",
            "  что мы начинает и досугом\n",
            "  открыла тайну, как супругом\n",
            "  свои трещит и любви порою;\n",
            "  в сумрашен боле тридебеньей\n",
            "  измены вас непричанье верной\n",
            "  средей прежней ветреный письму\n",
            "  и ужин, полдою, торной\n",
            "  на синих, для дома ждет поэт\n",
            "  татьяну в мольбе молодой,\n",
            "  моей душе мог и грудь\n",
            "  отворотив от пистолета.\n",
            "  теперь с котой раздался поним,\n",
            "  бежала за данья и светло.\n",
            "  татьяна вижу я за столом.>\n"
          ],
          "name": "stdout"
        }
      ]
    },
    {
      "cell_type": "markdown",
      "metadata": {
        "id": "qJqOcJTpvbEg"
      },
      "source": [
        "Еще увеличиваем значение лосса (0.931)"
      ]
    },
    {
      "cell_type": "code",
      "metadata": {
        "id": "kXzF1p-vlxer"
      },
      "source": [
        "with open(\"/content/drive/MyDrive/MADE/semester2/NLP/char_lstm_onegin0.9313090443611145.pth\", \"rb\") as fp:\n",
        "    best_state_dict = torch.load(fp, map_location=\"cpu\")\n",
        "    model.load_state_dict(best_state_dict)\n"
      ],
      "execution_count": 295,
      "outputs": []
    },
    {
      "cell_type": "code",
      "metadata": {
        "colab": {
          "base_uri": "https://localhost:8080/"
        },
        "id": "7FqocdZvl4a6",
        "outputId": "cb9b3a20-dd8b-4922-9459-c9bba7e7d85f"
      },
      "source": [
        "x_sequence = generate_sample_lstm(model, seed_phrase='< как часто летнею порою\\n', max_length= 1000, temperature=0.5)\n",
        "ind = x_sequence.find('>')\n",
        "print(x_sequence[0: ind + 1])"
      ],
      "execution_count": 242,
      "outputs": [
        {
          "output_type": "stream",
          "text": [
            "< как часто летнею порою\n",
            "  и крик и ласки и взор,\n",
            "  в глазах легкие с ним обезрев,\n",
            "  как он взял об наш и к тихо.\n",
            "  он позволял – не как-нибудь,\n",
            "  но в страшного страстей их света\n",
            "  быть может, а под ветернея.\n",
            "  поесь веду он злой апуть.>\n"
          ],
          "name": "stdout"
        }
      ]
    },
    {
      "cell_type": "code",
      "metadata": {
        "colab": {
          "base_uri": "https://localhost:8080/"
        },
        "id": "h5boz1BImOU5",
        "outputId": "89b49d89-41ff-441e-cf02-ff3fa86009bb"
      },
      "source": [
        "x_sequence = generate_sample_lstm(model, seed_phrase='< как часто летнею порою\\n', max_length= 1000, temperature=0.2)\n",
        "ind = x_sequence.find('>')\n",
        "print(x_sequence[0: ind + 1])"
      ],
      "execution_count": 299,
      "outputs": [
        {
          "output_type": "stream",
          "text": [
            "< как часто летнею порою\n",
            "  к ней на вала записных дам\n",
            "  и утро нашей сердце ей.\n",
            "  он ее в постели подал\n",
            "  без молкливо требепный пал…\n",
            "  ото всего, что сё верелый слов,\n",
            "  довольно скучен высший тон;\n",
            "  а между тем припомнил светают:\n",
            "  хоть он мне полно, полилось». —\n",
            "  «да кто ж она?» – «жена моя».>\n"
          ],
          "name": "stdout"
        }
      ]
    },
    {
      "cell_type": "code",
      "metadata": {
        "colab": {
          "base_uri": "https://localhost:8080/"
        },
        "id": "3-A00oWfoJP_",
        "outputId": "000cab7a-aa75-4fca-8116-6ad9df0b0d98"
      },
      "source": [
        "x_sequence = generate_sample_lstm(model, seed_phrase='< как часто летнею порою\\n', max_length= 1000, temperature=0.3)\n",
        "ind = x_sequence.find('>')\n",
        "print(x_sequence[0: ind + 1])"
      ],
      "execution_count": 255,
      "outputs": [
        {
          "output_type": "stream",
          "text": [
            "< как часто летнею порою\n",
            "  к ней не домчится гимн времен,\n",
            "  благословение племен.>\n"
          ],
          "name": "stdout"
        }
      ]
    },
    {
      "cell_type": "code",
      "metadata": {
        "colab": {
          "base_uri": "https://localhost:8080/"
        },
        "id": "ghYDXVLxo2c6",
        "outputId": "603d1fed-4ace-410b-eecd-01fec5d79cce"
      },
      "source": [
        "x_sequence = generate_sample_lstm(model, seed_phrase='< так думал молодой повеса,\\n', max_length= 1000, temperature=0.1)\n",
        "ind = x_sequence.find('>')\n",
        "print(x_sequence[0: ind + 1])"
      ],
      "execution_count": 303,
      "outputs": [
        {
          "output_type": "stream",
          "text": [
            "< так думал молодой повеса,\n",
            "  увы! любовник молодой,\n",
            "  блистал фонвизин, друг свободы,\n",
            "  и путешествия ему,\n",
            "  как верхом на вспомнил он;\n",
            "  в санки он оставил кал,\n",
            "  в душе твой гости молодой.\n",
            "  все дочек хранивет предметы\n",
            "  мне страдал бы собою\n",
            "  сведет еще уж давно ного:\n",
            "  никто будет старинных лет,\n",
            "  безмолвно буду я зевать\n",
            "  и дружеский солненье сень:\n",
            "  то не имев угралость, да должны\n",
            "  в долг осушать бутылки три.>\n"
          ],
          "name": "stdout"
        }
      ]
    },
    {
      "cell_type": "code",
      "metadata": {
        "id": "bU3gKD0kmh3K"
      },
      "source": [
        "with open(\"/content/drive/MyDrive/MADE/semester2/NLP/char_lstm_onegin1.0113763809204102.pth\", \"rb\") as fp:\n",
        "    best_state_dict = torch.load(fp, map_location=\"cpu\")\n",
        "    model.load_state_dict(best_state_dict)\n"
      ],
      "execution_count": null,
      "outputs": []
    },
    {
      "cell_type": "code",
      "metadata": {
        "colab": {
          "base_uri": "https://localhost:8080/"
        },
        "id": "A6A3eit8mcWk",
        "outputId": "3d3049f7-95b7-41ed-df8f-2c030b8ec46c"
      },
      "source": [
        "x_sequence = generate_sample_lstm(model, seed_phrase='< мы все учились понемногу\\n', max_length= 1000, temperature=0.2)\n",
        "ind = x_sequence.find('>')\n",
        "print(x_sequence[0: ind + 1])\n"
      ],
      "execution_count": 321,
      "outputs": [
        {
          "output_type": "stream",
          "text": [
            "< мы все учились понемногу\n",
            "  чему-ни труда душе бей,\n",
            "  дружно стал бы бледник сество;\n",
            "  под небом шиллера и гете.\n",
            "  он отличился, сходить с франту\n",
            "  и нашей братье рифмачам\n",
            "  крестила дряхлою растка:\n",
            "  в той кучка холя тихонька:\n",
            "  верней наши головою,\n",
            "  того, что от услага не хотел\n",
            "  себе влюбляясь отворилась,\n",
            "  улыбка слез, тому же лел.>\n"
          ],
          "name": "stdout"
        }
      ]
    },
    {
      "cell_type": "markdown",
      "metadata": {
        "id": "McfYaHDL848n"
      },
      "source": [
        "Вывод : LSTM сеть гораздо легче оптимизируется, чем RNN. Посколько имеет skip обходной слой, в котором градиент меньше затухает.\n",
        "Другое дело, что на практике мне показалось стихи с бОльшим значеним лосса в LSTM, больше похожи именно на стихи, с рифмой и ритмом. Но все еще очень далеки от идеала :)"
      ]
    },
    {
      "cell_type": "markdown",
      "metadata": {
        "id": "-tChWkw1qNhM"
      },
      "source": [
        "### References\n",
        "1. <a href='http://karpathy.github.io/2015/05/21/rnn-effectiveness/'> Andrew Karpathy blog post about RNN. </a> \n",
        "There are several examples of genration: Shakespeare texts, Latex formulas, Linux Sourse Code and children names.\n",
        "2. <a href='https://github.com/karpathy/char-rnn'> Repo with char-rnn code </a>\n",
        "3. Cool repo with PyTorch examples: [link](https://github.com/spro/practical-pytorch`)"
      ]
    }
  ]
}